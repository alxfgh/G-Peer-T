{
  "cells": [
    {
      "cell_type": "markdown",
      "source": [
        "# We built off the excellent PEFT notebook by Younes Belkada"
      ],
      "metadata": {
        "id": "TJ7KEbVkTbbT"
      }
    },
    {
      "cell_type": "markdown",
      "metadata": {
        "id": "WE5GJ6s7y0Xo"
      },
      "source": [
        "## Fine-tune large models using 🤗 `peft` adapters, `transformers` & `bitsandbytes`\n",
        "\n",
        "In this tutorial we will cover how we can fine-tune large language models using the very recent `peft` library and `bitsandbytes` for loading large models in 8-bit.\n",
        "The fine-tuning method will rely on a recent method called \"Low Rank Adapters\" (LoRA), instead of fine-tuning the entire model you just have to fine-tune these adapters and load them properly inside the model.\n",
        "After fine-tuning the model you can also share your adapters on the 🤗 Hub and load them very easily. Let's get started!"
      ]
    },
    {
      "cell_type": "markdown",
      "metadata": {
        "id": "TfBzP8gWzkpv"
      },
      "source": [
        "### Install requirements\n",
        "\n",
        "First, run the cells below to install the requirements:"
      ]
    },
    {
      "cell_type": "code",
      "execution_count": null,
      "metadata": {
        "id": "otj46qRbtpnd"
      },
      "outputs": [],
      "source": [
        "!pip install -q bitsandbytes datasets accelerate loralib\n",
        "!pip install -q git+https://github.com/huggingface/transformers.git@main git+https://github.com/huggingface/peft.git\n",
        "!pip install biopython"
      ]
    },
    {
      "cell_type": "markdown",
      "metadata": {
        "id": "FOtwYRI3zzXI"
      },
      "source": [
        "### Model loading\n",
        "\n",
        "Here let's load the `opt-6.7b` model, its weights in half-precision (float16) are about 13GB on the Hub! If we load them in 8-bit we would require around 7GB of memory instead."
      ]
    },
    {
      "cell_type": "code",
      "execution_count": null,
      "metadata": {
        "id": "cg3fiQOvmI3Q"
      },
      "outputs": [],
      "source": [
        "import os\n",
        "os.environ[\"CUDA_VISIBLE_DEVICES\"]=\"0\"\n",
        "import torch\n",
        "import torch.nn as nn\n",
        "import bitsandbytes as bnb\n",
        "from transformers import AutoTokenizer, AutoConfig, AutoModelForCausalLM\n",
        "\n",
        "# used \"facebook/opt-6.7b\" or \"TinyLlama/TinyLlama-1.1B-intermediate-step-1431k-3T\". Results in figure from TinyLlama\n",
        "\n",
        "model = AutoModelForCausalLM.from_pretrained(\n",
        "    \"facebook/opt-6.7b\",\n",
        "    load_in_8bit=True,\n",
        "    device_map='auto',\n",
        ")\n",
        "\n",
        "\n",
        "\n",
        "tokenizer = AutoTokenizer.from_pretrained(\"facebook/opt-6.7b\")"
      ]
    },
    {
      "cell_type": "markdown",
      "metadata": {
        "id": "9fTSZntA1iUG"
      },
      "source": [
        "### Post-processing on the model\n",
        "\n",
        "Finally, we need to apply some post-processing on the 8-bit model to enable training, let's freeze all our layers, and cast the layer-norm in `float32` for stability. We also cast the output of the last layer in `float32` for the same reasons."
      ]
    },
    {
      "cell_type": "code",
      "execution_count": null,
      "metadata": {
        "id": "T-gy-LxM0yAi"
      },
      "outputs": [],
      "source": [
        "for param in model.parameters():\n",
        "  param.requires_grad = False  # freeze the model - train adapters later\n",
        "  if param.ndim == 1:\n",
        "    # cast the small parameters (e.g. layernorm) to fp32 for stability\n",
        "    param.data = param.data.to(torch.float32)\n",
        "\n",
        "model.gradient_checkpointing_enable()  # reduce number of stored activations\n",
        "model.enable_input_require_grads()\n",
        "\n",
        "class CastOutputToFloat(nn.Sequential):\n",
        "  def forward(self, x): return super().forward(x).to(torch.float32)\n",
        "model.lm_head = CastOutputToFloat(model.lm_head)"
      ]
    },
    {
      "cell_type": "markdown",
      "metadata": {
        "id": "KwOTr7B3NlM3"
      },
      "source": [
        "### Apply LoRA\n",
        "\n",
        "Here comes the magic with `peft`! Let's load a `PeftModel` and specify that we are going to use low-rank adapters (LoRA) using `get_peft_model` utility function from `peft`."
      ]
    },
    {
      "cell_type": "code",
      "execution_count": null,
      "metadata": {
        "id": "4W1j6lxaNnxC"
      },
      "outputs": [],
      "source": [
        "def print_trainable_parameters(model):\n",
        "    \"\"\"\n",
        "    Prints the number of trainable parameters in the model.\n",
        "    \"\"\"\n",
        "    trainable_params = 0\n",
        "    all_param = 0\n",
        "    for _, param in model.named_parameters():\n",
        "        all_param += param.numel()\n",
        "        if param.requires_grad:\n",
        "            trainable_params += param.numel()\n",
        "    print(\n",
        "        f\"trainable params: {trainable_params} || all params: {all_param} || trainable%: {100 * trainable_params / all_param}\"\n",
        "    )"
      ]
    },
    {
      "cell_type": "code",
      "execution_count": null,
      "metadata": {
        "id": "4iwHGzKBN6wk"
      },
      "outputs": [],
      "source": [
        "from peft import LoraConfig, get_peft_model\n",
        "\n",
        "config = LoraConfig(\n",
        "    r=16,\n",
        "    lora_alpha=32,\n",
        "    target_modules=[\"q_proj\", \"v_proj\"],\n",
        "    lora_dropout=0.05,\n",
        "    bias=\"none\",\n",
        "    task_type=\"CAUSAL_LM\"\n",
        ")\n",
        "\n",
        "model = get_peft_model(model, config)\n",
        "print_trainable_parameters(model)"
      ]
    },
    {
      "cell_type": "markdown",
      "metadata": {
        "id": "QdjWif4CVXR6"
      },
      "source": [
        "### Training"
      ]
    },
    {
      "cell_type": "code",
      "source": [
        "from Bio import Entrez\n",
        "import xml.etree.ElementTree as ET\n",
        "import transformers\n",
        "from datasets import Dataset, load_dataset\n",
        "from transformers import TrainingArguments, Trainer, DataCollatorForLanguageModeling\n",
        "\n",
        "# Set your email\n",
        "Entrez.email = \"your-email@example.com\"\n",
        "query = \"material science catalysis AND (\\\"2017\\\"[Date - Publication] : \\\"2020\\\"[Date - Publication])\"\n",
        "\n",
        "# Search for IDs\n",
        "handle = Entrez.esearch(db=\"pubmed\", term=query, retmax=10000)\n",
        "record = Entrez.read(handle)\n",
        "handle.close()\n",
        "\n",
        "id_list = record['IdList']\n",
        "abstracts = []\n",
        "\n",
        "\n",
        "# Fetch records and parse for abstracts only\n",
        "for i in range(0, len(id_list), 100):\n",
        "    fetch_handle = Entrez.efetch(db=\"pubmed\", id=id_list[i:i+100], rettype=\"xml\")\n",
        "    data = fetch_handle.read()\n",
        "    fetch_handle.close()\n",
        "\n",
        "    # Parse XML\n",
        "    root = ET.fromstring(data)\n",
        "    for article in root.findall('.//PubmedArticle'):\n",
        "        abstract_text = article.find('.//Abstract/AbstractText')\n",
        "        if abstract_text is not None and abstract_text.text is not None:\n",
        "            abstract = abstract_text.text\n",
        "            if 800 < len(abstract) < 2200:  # Check length of the abstract\n",
        "                abstracts.append(abstract)\n",
        "print(f\"Fetched {len(abstracts)} abstracts.\")"
      ],
      "metadata": {
        "id": "NkRbIV1T633V"
      },
      "execution_count": null,
      "outputs": []
    },
    {
      "cell_type": "code",
      "source": [
        "MINCITES = 200\n",
        "MAXABSTRACTS = 2000\n",
        "def getcitations(pmids):\n",
        "    numcites = {}\n",
        "    for pmid in pmids:\n",
        "        q = Entrez.read(Entrez.elink(dbfrom=\"pubmed\", db=\"pmc\", LinkName=\"pubmed_pubmed_citedin\", from_uid=pmid))\n",
        "        if len(q)>0 and len(q[0]['LinkSetDb'])>0:\n",
        "            numcites.update({ pmid:len(q[0]['LinkSetDb'][0]['Link']) } )\n",
        "    return numcites\n",
        "citedqueries = \"material science catalysis AND (\\\"2017\\\"[Date - Publication] : \\\"2020\\\"[Date - Publication])\"\n",
        "citedhandle = Entrez.esearch(db=\"pubmed\", term=query, retmax=10000)\n",
        "citedrecord = Entrez.read(citedhandle)\n",
        "citedhandle.close()\n",
        "\n",
        "cited_id_list = record['IdList']\n",
        "citeNumbers = getcitations(cited_id_list)\n",
        "cited_abstracts = []\n",
        "for pmid in citeNumbers.keys():\n",
        "    if len(cited_abstracts)>MAXABSTRACTS:\n",
        "        break\n",
        "    if citeNumbers[pmid]>MINCITES:\n",
        "        fetch_handle = Entrez.efetch(db=\"pubmed\", id=pmid, rettype=\"xml\")\n",
        "        data = fetch_handle.read()\n",
        "        fetch_handle.close()\n",
        "\n",
        "        # Parse XML\n",
        "        root = ET.fromstring(data)\n",
        "        for article in root.findall('.//PubmedArticle'):\n",
        "            abstract_text = article.find('.//Abstract/AbstractText')\n",
        "            if abstract_text is not None and abstract_text.text is not None:\n",
        "                abstracts = abstract_text.text\n",
        "                if 800 < len(abstract) < 2200:  # Check length of the abstract\n",
        "                    cited_abstracts.append(abstract)"
      ],
      "metadata": {
        "id": "DWgg_YjjDXLa"
      },
      "execution_count": null,
      "outputs": []
    },
    {
      "cell_type": "code",
      "source": [
        "# Assume abstracts is a list of strings containing your fetched data\n",
        "abstracts_dataset = Dataset.from_dict({'text': abstracts})\n",
        "tokenized_dataset = abstracts_dataset.map(lambda x: tokenizer(x['text']), batched=True)\n",
        "\n",
        "# Setup Trainer using the whole dataset\n",
        "trainer = Trainer(\n",
        "    model=model,\n",
        "    train_dataset=tokenized_dataset,\n",
        "    args=TrainingArguments(\n",
        "        per_device_train_batch_size=4,\n",
        "        gradient_accumulation_steps=4,\n",
        "        warmup_steps=100,\n",
        "        max_steps=200,\n",
        "        learning_rate=1e-4,\n",
        "        fp16=True,\n",
        "        logging_steps=1,\n",
        "        output_dir='outputs',\n",
        "        report_to=\"wandb\"\n",
        "    ),\n",
        "    data_collator=DataCollatorForLanguageModeling(tokenizer, mlm=False)\n",
        ")\n",
        "\n",
        "model.config.use_cache = False  # Adjust cache settings for training\n",
        "\n",
        "# Start training\n",
        "trainer.train()\n",
        "model.push_to_hub(\"alxfgh/opt-6.7b-materials-science-catalysis-lora\", use_auth_token=True)\n",
        "wandb.finish()"
      ],
      "metadata": {
        "id": "QD5k7f3mfahG"
      },
      "execution_count": null,
      "outputs": []
    },
    {
      "cell_type": "code",
      "source": [
        "def computeLogP(abstract):\n",
        "    abstract = abstract.split(\" \")\n",
        "    inputs = \" \".join(abstract[:2])\n",
        "    outputs = \" \".join(abstract[2:])\n",
        "\n",
        "    input_tokens = tokenizer.encode(inputs, add_special_tokens=False, return_tensors=\"pt\")\n",
        "    output_tokens = tokenizer.encode(outputs, add_special_tokens=False, return_tensors=\"pt\")\n",
        "    input_tokens_updated = input_tokens.clone()\n",
        "    log_sum = 0\n",
        "    logp_tokens = []\n",
        "    for i in range(output_tokens.shape[1]):\n",
        "        # Predict with the given model\n",
        "        with torch.no_grad():\n",
        "            outputs = model(input_tokens_updated)\n",
        "            logit_predictions = outputs.logits\n",
        "\n",
        "        # Extract the log probability of the most recently added token\n",
        "        last_token_logit = logit_predictions[0, -1, :]\n",
        "        last_token_log_probs = torch.nn.functional.log_softmax(last_token_logit, dim=-1)\n",
        "        log_token_prob = last_token_log_probs[output_tokens[0, i]].item()\n",
        "        log_sum += log_token_prob\n",
        "        logp_tokens.append(log_token_prob)\n",
        "\n",
        "        # Incrementally add an output token to the current sequence\n",
        "        last_token = tokenizer.decode(output_tokens[:, i])\n",
        "        input_tokens_updated = torch.cat([input_tokens_updated, output_tokens[:, i:i+1]], dim=1)\n",
        "        print([tokenizer.decode(token) for token in input_tokens_updated])\n",
        "        print(f\"Token: {last_token}, Log Prob: {log_token_prob}\")\n",
        "    print(f\"Total Log Sum Probability: {log_sum}\")\n",
        "    return log_sum,logp_tokens"
      ],
      "metadata": {
        "id": "9_BqDZl3qQBE"
      },
      "execution_count": null,
      "outputs": []
    }
  ],
  "metadata": {
    "accelerator": "GPU",
    "colab": {
      "machine_shape": "hm",
      "provenance": []
    },
    "gpuClass": "standard",
    "kernelspec": {
      "display_name": "Python 3 (ipykernel)",
      "language": "python",
      "name": "python3"
    },
    "language_info": {
      "codemirror_mode": {
        "name": "ipython",
        "version": 3
      },
      "file_extension": ".py",
      "mimetype": "text/x-python",
      "name": "python",
      "nbconvert_exporter": "python",
      "pygments_lexer": "ipython3",
      "version": "3.10.4"
    }
  },
  "nbformat": 4,
  "nbformat_minor": 0
}